{
 "cells": [
  {
   "cell_type": "markdown",
   "metadata": {},
   "source": [
    "## Import libraries"
   ]
  },
  {
   "cell_type": "code",
   "execution_count": 1,
   "metadata": {},
   "outputs": [],
   "source": [
    "import fitz"
   ]
  },
  {
   "cell_type": "markdown",
   "metadata": {},
   "source": [
    "## Function for highlighting search term in pdf file"
   ]
  },
  {
   "cell_type": "code",
   "execution_count": 16,
   "metadata": {},
   "outputs": [],
   "source": [
    "def highlight_terms(pdf_file,search_term):\n",
    "    \"\"\"\n",
    "    Function that highlights search term into a pdf file\n",
    "    \"\"\"\n",
    "    doc = fitz.open(pdf_file)\n",
    "    n_pages = doc.pageCount\n",
    "    for i in range(n_pages):\n",
    "        page = doc[i]\n",
    "    \n",
    "        ## Search terms\n",
    "        text_instances = page.searchFor(search_term)\n",
    "\n",
    "        ## Highlight search terms\n",
    "        for inst in text_instances:\n",
    "            highlight = page.addHighlightAnnot(inst)\n",
    "        \n",
    "    ### return pdf highlighted\n",
    "#     doc.save(\"hgl_\"+pdf_file, garbage=4, deflate=True, clean=True)\n",
    "    return doc"
   ]
  },
  {
   "cell_type": "code",
   "execution_count": 17,
   "metadata": {},
   "outputs": [],
   "source": [
    "# highlight_terms('test_file.pdf','mensenhandel')"
   ]
  },
  {
   "cell_type": "code",
   "execution_count": null,
   "metadata": {},
   "outputs": [],
   "source": []
  }
 ],
 "metadata": {
  "kernelspec": {
   "display_name": "Python 3",
   "language": "python",
   "name": "python3"
  },
  "language_info": {
   "codemirror_mode": {
    "name": "ipython",
    "version": 3
   },
   "file_extension": ".py",
   "mimetype": "text/x-python",
   "name": "python",
   "nbconvert_exporter": "python",
   "pygments_lexer": "ipython3",
   "version": "3.6.5"
  }
 },
 "nbformat": 4,
 "nbformat_minor": 2
}
