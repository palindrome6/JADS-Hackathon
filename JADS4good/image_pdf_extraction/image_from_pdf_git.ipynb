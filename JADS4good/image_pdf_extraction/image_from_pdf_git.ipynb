{
 "cells": [
  {
   "cell_type": "markdown",
   "metadata": {},
   "source": [
    "## Import libraries"
   ]
  },
  {
   "cell_type": "code",
   "execution_count": null,
   "metadata": {},
   "outputs": [],
   "source": [
    "import sys"
   ]
  },
  {
   "cell_type": "code",
   "execution_count": null,
   "metadata": {},
   "outputs": [],
   "source": [
    "import os\n",
    "import subprocess\n",
    "import re"
   ]
  },
  {
   "cell_type": "code",
   "execution_count": null,
   "metadata": {},
   "outputs": [],
   "source": [
    "import pandas as pd"
   ]
  },
  {
   "cell_type": "markdown",
   "metadata": {},
   "source": [
    "## Function for image extraction "
   ]
  },
  {
   "cell_type": "code",
   "execution_count": null,
   "metadata": {},
   "outputs": [],
   "source": [
    "def image_exporter(pdf_name, flag):\n",
    "    \"\"\"\n",
    "    Function to export images from a pdf file\n",
    "    \"\"\"\n",
    "    pdf_name = r\"../data/pdfs/\"+pdf_name+\".pdf\"\n",
    "    print(pdf_name)\n",
    "    cmd = [r\"poppler-0.68.0/bin/pdfimages\", \n",
    "            r\"-png\", pdf_name, \n",
    "          r\"C:\\Users\\20183568\\Desktop\\Hackathons\\3-NatRap\\JADS-Hackathon\\JADS4good\\data\\pdf_images\\\\\"+str(flag)]\n",
    "    try:\n",
    "        subprocess.call(cmd)\n",
    "        print('Images extracted:')\n",
    "    except Exception as e:\n",
    "        print('image extraction could not be executed due to the following error: ')\n",
    "        print(e)"
   ]
  },
  {
   "cell_type": "code",
   "execution_count": null,
   "metadata": {},
   "outputs": [],
   "source": [
    "flag = 0\n",
    "file_zz = []\n",
    "for entry in os.scandir(r\"../data/pdfs\"):\n",
    "    path_bas = os.path.basename(entry.path)\n",
    "    name, extension = os.path.splitext(path_bas)\n",
    "    image_exporter(name,flag)\n",
    "    file_zz.append([name,flag])\n",
    "    flag = flag+1"
   ]
  },
  {
   "cell_type": "code",
   "execution_count": null,
   "metadata": {},
   "outputs": [],
   "source": [
    "pd.DataFrame(file_zz).to_csv('image_pdf.csv')"
   ]
  }
 ],
 "metadata": {
  "kernelspec": {
   "display_name": "Python 3",
   "language": "python",
   "name": "python3"
  },
  "language_info": {
   "codemirror_mode": {
    "name": "ipython",
    "version": 3
   },
   "file_extension": ".py",
   "mimetype": "text/x-python",
   "name": "python",
   "nbconvert_exporter": "python",
   "pygments_lexer": "ipython3",
   "version": "3.6.5"
  }
 },
 "nbformat": 4,
 "nbformat_minor": 2
}
